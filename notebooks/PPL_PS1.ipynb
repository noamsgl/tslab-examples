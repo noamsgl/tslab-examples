{
 "cells": [
  {
   "cell_type": "markdown",
   "metadata": {},
   "source": [
    "## Typescript: Complex Data Types, JSON, Map, Filter, Reduce"
   ]
  },
  {
   "cell_type": "markdown",
   "metadata": {},
   "source": [
    "## PPL 2020 - http://www.cs.bgu.ac.il/~ppl202 \n",
    "## Practical Session - Week #1"
   ]
  },
  {
   "cell_type": "markdown",
   "metadata": {},
   "source": [
    "## How to Install Node.js and NPM on Windows\n",
    "\n",
    "Node.js is a JavaScript interpreter. NPM (Node Package Manager) let's you install software (libraries, plugins, frameworks and applications) used to build Node applications. Both are installed using the installer package avaiable from the Node.js web site. The isntallation is pretty straightforward: \n",
    "\n",
    "1. Download the Windows installer from [nodejs.org](https://nodejs.org/en/)\n",
    "2. Run the installer (the .msi file you downloaded in the previous step.)\n",
    "3. Follow the prompts in the installer (Accept the license agreement, click the NEXT button a bunch of times and accept the default installation settings).\n",
    "4. Restart your computer.\n",
    "\n",
    "#### Test the installation: \n",
    "* Open the Windows Command Prompt (press the Win + R keys. Then, type cmd and press Enter).\n",
    "* To verify node is installed, type \"node -v\", then press Enter. You should see a version number (e.g., v12.16.1 or v13.11.0).\n",
    "* To verify NPM installation, type \"npm -v\" and press Enter. You should see a version number (e.g., 6.13.4 or 6.13.7).\n",
    "\n",
    "#### More information:\n",
    "For instructions on how to install other software that will be used throughout the course, please refer to the [useful links](https://www.cs.bgu.ac.il/~ppl202/Useful_Links) section in the course web site.  In particular, see instructions on how to install the TypeScript compiler tsc and the VSCode IDE."
   ]
  },
  {
   "cell_type": "markdown",
   "metadata": {},
   "source": [
    "## 1. Types of Values"
   ]
  },
  {
   "cell_type": "markdown",
   "metadata": {},
   "source": [
    "A **data-type** is a classification of data which indicates what the programmer intends to do with the data. Types correspond to a set of values (eg. the boolean type corresponds to {true,false}, number type corresponds to the infinite set of numeric values), and they define the operations that can be done on the data (eg. booleans can be computed using logical operators).\n",
    "\n",
    "We pay attention to two distinguishable defintions: The **type of a value** (atomic/compound) and the **type of a variable**. The type of a variable may be declared by the programmer of inferred by the type of the value it stores. The type of a value is determined by a defined group to which it belongs. The type of a variable may be different than the type of the value it stores, but they must be compatiable.\n",
    "\n",
    "Apart from atomic types (number, string, boolean), there are **compound types**. Javascript introduces two basic compound types: Arrays and Maps. In Javascript, compound types are called *object* types (note: not to be confused with the more standard term - *object* here simply refers to any value which is not an atomic type)"
   ]
  },
  {
   "cell_type": "markdown",
   "metadata": {},
   "source": [
    "##### Arrays"
   ]
  },
  {
   "cell_type": "markdown",
   "metadata": {},
   "source": [
    "Arrays are the first basic compound type in Javascript. Here is an example of using arrays:"
   ]
  },
  {
   "cell_type": "code",
   "execution_count": 1,
   "metadata": {},
   "outputs": [
    {
     "name": "stdout",
     "output_type": "stream",
     "text": [
      "13\n",
      "[ 8, 27, 13 ]\n"
     ]
    },
    {
     "data": {
      "text/plain": [
       "undefined"
      ]
     },
     "execution_count": 1,
     "metadata": {},
     "output_type": "execute_result"
    }
   ],
   "source": [
    "// This is how we declare an array containing the elements 16,8,27,13\n",
    "let a = [16, 8, 27, 13]\n",
    "\n",
    "// Here's how we use the Array compound value getter:\n",
    "console.log(a[3])\n",
    "\n",
    "// There is also a slice method:\n",
    "console.log(a.slice(1,4))"
   ]
  },
  {
   "cell_type": "markdown",
   "metadata": {},
   "source": [
    "Let's check that it is a compound type:"
   ]
  },
  {
   "cell_type": "code",
   "execution_count": 2,
   "metadata": {},
   "outputs": [
    {
     "name": "stdout",
     "output_type": "stream",
     "text": [
      "object\n"
     ]
    },
    {
     "data": {
      "text/plain": [
       "undefined"
      ]
     },
     "execution_count": 2,
     "metadata": {},
     "output_type": "execute_result"
    }
   ],
   "source": [
    "console.log(typeof(a))"
   ]
  },
  {
   "cell_type": "markdown",
   "metadata": {},
   "source": [
    "And now the more specific reflection operator: "
   ]
  },
  {
   "cell_type": "code",
   "execution_count": 3,
   "metadata": {},
   "outputs": [
    {
     "name": "stdout",
     "output_type": "stream",
     "text": [
      "true\n"
     ]
    },
    {
     "data": {
      "text/plain": [
       "undefined"
      ]
     },
     "execution_count": 3,
     "metadata": {},
     "output_type": "execute_result"
    }
   ],
   "source": [
    "console.log(a instanceof Array)"
   ]
  },
  {
   "cell_type": "markdown",
   "metadata": {},
   "source": [
    "The array we defined above is **homogeneous**, meaning that it contains a single data type. \n",
    "The **homogeneous** array `a` above contains values whose types are `number`. \n",
    "Arrays in Javascript can be heterogeneous as well: "
   ]
  },
  {
   "cell_type": "code",
   "execution_count": 4,
   "metadata": {},
   "outputs": [
    {
     "name": "stdout",
     "output_type": "stream",
     "text": [
      "manyArray = 1,a,2,The Dawn,true\n"
     ]
    },
    {
     "data": {
      "text/plain": [
       "undefined"
      ]
     },
     "execution_count": 4,
     "metadata": {},
     "output_type": "execute_result"
    }
   ],
   "source": [
    "let manyArray = [1, 'a', '2', \"The Dawn\", true]\n",
    "\n",
    "console.log(`manyArray = ${manyArray}`)"
   ]
  },
  {
   "cell_type": "markdown",
   "metadata": {},
   "source": [
    "##### Maps and the Object.keys"
   ]
  },
  {
   "cell_type": "markdown",
   "metadata": {},
   "source": [
    "Maps are the second basic compound type in Javascript:"
   ]
  },
  {
   "cell_type": "code",
   "execution_count": 5,
   "metadata": {},
   "outputs": [
    {
     "name": "stdout",
     "output_type": "stream",
     "text": [
      "1\n",
      "1\n",
      "2\n",
      "2\n",
      "[ '0', '1', '2', '3' ]\n",
      "[ 'a', 'b' ]\n"
     ]
    },
    {
     "data": {
      "text/plain": [
       "undefined"
      ]
     },
     "execution_count": 5,
     "metadata": {},
     "output_type": "execute_result"
    }
   ],
   "source": [
    "// This is how we declare them\n",
    "let map = {a: 1, b:2}\n",
    "\n",
    "// This is how we use the Map compound value getter for the values:\n",
    "console.log(map['a'])\n",
    "console.log(map.a)\n",
    "console.log(map['b'])\n",
    "console.log(map.b)\n",
    "\n",
    "// And for keys (relevant for both Arrays [the keys there are the indexes] and Maps)\n",
    "console.log(Object.keys(a))\n",
    "console.log(Object.keys(map))"
   ]
  },
  {
   "cell_type": "markdown",
   "metadata": {},
   "source": [
    "##### Variable Types"
   ]
  },
  {
   "cell_type": "markdown",
   "metadata": {},
   "source": [
    "Javascript is a *dynamic language*, meaning that variables are not typed. But when a variable is bound to a value, we can inspect its type at runtime. \n",
    "\n",
    "Typescript extends Javascript to introduce optional variable types - it is compiled into Javascript and at compilation time, type checking is performed. Let's recall the example from the lectures: "
   ]
  },
  {
   "cell_type": "code",
   "execution_count": 6,
   "metadata": {},
   "outputs": [
    {
     "data": {
      "text/plain": [
       "undefined"
      ]
     },
     "execution_count": 6,
     "metadata": {},
     "output_type": "execute_result"
    }
   ],
   "source": [
    "let typedVarNum  : number = 6,\n",
    "    typedVarStr  : string = \"blue\",\n",
    "    typedVarBool : boolean = true;"
   ]
  },
  {
   "cell_type": "markdown",
   "metadata": {},
   "source": [
    "## 2. JSON"
   ]
  },
  {
   "cell_type": "markdown",
   "metadata": {},
   "source": [
    "### 2.1 JSON Review"
   ]
  },
  {
   "cell_type": "markdown",
   "metadata": {},
   "source": [
    "JSON stands for Java Script Object Notation and is a standard way to serialize Javascript compound values into strings (and vice-versa). It is widely used to allow data exchange in server-client communication. It serves a role that is similar to XML.\n",
    "\n",
    "JSON is a **notation** - that is, a way of writing Javascript values in a way that allows reading them back easily. \n",
    "Most Javascript values can be written in JSON - but not all of them.\n",
    "\n",
    "Once you have a Javascript object, and once there is an agreed-upon-way of \"stringifying\" the object (in our case, the standard way is `JSON.stringify()`), then you can easily pass this string through the network, from a computer to a computer, as passing strings through the network is easy, and the receiving side can only do an agreed-upon way to parse the string into an object (in our case, the standard way is `JSON.parse()`)."
   ]
  },
  {
   "cell_type": "markdown",
   "metadata": {},
   "source": [
    "The JSON interface defines the following two methods: \n",
    "1. `JSON.stringify(o)` - maps a value to a string\n",
    "2. `JSON.parse(s)` - maps a string written according to the JSON syntax to a value\n",
    "\n",
    "JSON serves a similar goal to that of `Serializable` of Java that we saw in SPL."
   ]
  },
  {
   "cell_type": "code",
   "execution_count": 7,
   "metadata": {},
   "outputs": [
    {
     "name": "stdout",
     "output_type": "stream",
     "text": [
      "person1 serialized in JSON = {\"name\":\"Yosi\",\"age\":31,\"city\":\"Beer Sheva\"}\n",
      "person1JSONString is of type string\n"
     ]
    },
    {
     "data": {
      "text/plain": [
       "undefined"
      ]
     },
     "execution_count": 7,
     "metadata": {},
     "output_type": "execute_result"
    }
   ],
   "source": [
    "let person1 = { name : \"Yosi\", age : 31, city : \"Beer Sheva\" },\n",
    "    person1JSONString = JSON.stringify(person1);\n",
    "\n",
    "console.log(`person1 serialized in JSON = ${person1JSONString}`)\n",
    "console.log(`person1JSONString is of type ${typeof person1JSONString}`)"
   ]
  },
  {
   "cell_type": "code",
   "execution_count": 8,
   "metadata": {},
   "outputs": [
    {
     "name": "stdout",
     "output_type": "stream",
     "text": [
      "{ name: 'Yosi', age: 31, city: 'Beer Sheva' }\n",
      "person2 is of type object\n"
     ]
    },
    {
     "data": {
      "text/plain": [
       "undefined"
      ]
     },
     "execution_count": 8,
     "metadata": {},
     "output_type": "execute_result"
    }
   ],
   "source": [
    "let person2 = JSON.parse(person1JSONString)\n",
    "\n",
    "console.log(person2)\n",
    "console.log(`person2 is of type ${typeof person2}`)"
   ]
  },
  {
   "cell_type": "markdown",
   "metadata": {},
   "source": [
    "Note that the way values are written in JSON is not exactly the same as we write them in a Javascript program - there are quotes (\"\") around keys for example.\n",
    "\n",
    "Note also that `stringify()` and `parse()` work on atomic values as well:"
   ]
  },
  {
   "cell_type": "code",
   "execution_count": 9,
   "metadata": {},
   "outputs": [
    {
     "name": "stdout",
     "output_type": "stream",
     "text": [
      "number\n",
      "boolean\n",
      "string\n"
     ]
    },
    {
     "data": {
      "text/plain": [
       "undefined"
      ]
     },
     "execution_count": 9,
     "metadata": {},
     "output_type": "execute_result"
    }
   ],
   "source": [
    "console.log(typeof(JSON.parse('2')))     // note that the input to JSON.parse is a JSON string\n",
    "console.log(typeof(JSON.parse('true')))\n",
    "console.log(typeof(JSON.parse('\"abc\"')))"
   ]
  },
  {
   "cell_type": "markdown",
   "metadata": {},
   "source": [
    "The values that can be encoded into JSON (let us call them \"JSON values\") must be one of the following types:\n",
    "1. string\n",
    "2. number\n",
    "3. boolean\n",
    "4. null\n",
    "5. a map where all the keys are strings and all the values are JSON values (recursively) \n",
    "6. an array where all the values are JSON values\n",
    "\n",
    "The Javascript compound data types, *arrays* and *maps*, can be combined in a recursive manner. \n",
    "This applies to JSON as well.\n",
    "\n",
    "The Javascript values that **cannot be encoded** into JSON strings are `undefined` and functions.\n",
    "\n",
    "Let us look at an example of a complex value and how we can describe it in JSON and then how using types can help us describe its structure in a well-documented manner:"
   ]
  },
  {
   "cell_type": "code",
   "execution_count": 10,
   "metadata": {},
   "outputs": [
    {
     "name": "stdout",
     "output_type": "stream",
     "text": [
      "{\"department\":\"Computer Science\",\"students\":[{\"name\":\"James\",\"degree\":\"MSc\"},{\"name\":\"John\",\"degree\":\"PhD\"}]}\n",
      "studentsJSON is of type string\n",
      "{ department: 'Computer Science',\n",
      "  students: \n",
      "   [ { name: 'James', degree: 'MSc' },\n",
      "     { name: 'John', degree: 'PhD' } ] }\n",
      "studentsJSONParsed is of type object\n"
     ]
    },
    {
     "data": {
      "text/plain": [
       "undefined"
      ]
     },
     "execution_count": 10,
     "metadata": {},
     "output_type": "execute_result"
    }
   ],
   "source": [
    "let studentsData = {department: \"Computer Science\", \n",
    "                    students: [\n",
    "                        {name: \"James\", degree:\"MSc\"}, \n",
    "                        {name: \"John\", degree:\"PhD\"}\n",
    "                    ]};\n",
    "let studentsJSON = JSON.stringify(studentsData)\n",
    "console.log(studentsJSON)\n",
    "console.log(`studentsJSON is of type ${typeof studentsJSON}`)\n",
    "let studentsJSONParsed = JSON.parse(studentsJSON)\n",
    "console.log(studentsJSONParsed)\n",
    "console.log(`studentsJSONParsed is of type ${typeof studentsJSONParsed}`)"
   ]
  },
  {
   "cell_type": "markdown",
   "metadata": {},
   "source": [
    "We verified that this complex structure can be written into JSON, and then parsed back into an identical value (this is a **round-trip** that preserves the value).\n",
    "\n",
    "We can look at the type of studentData as a **tree** of simpler values:\n",
    "* `studentsData` is a map which has 2 keys:\n",
    "  * `department` with a value which is a string\n",
    "  * `students` with a value which is an embedded array whose items are compound values.\n",
    "* The nested values are maps that have 2 keys:\n",
    "  * `name` whose value is a `string` \n",
    "  *  `degree` whose value is also a `string`\n",
    "  "
   ]
  },
  {
   "cell_type": "markdown",
   "metadata": {},
   "source": [
    "### 2.2 Documenting Complex Values with Type Annotations\n",
    "\n",
    "We can describe this structure using the following TypeScript declaration:\n",
    "```\n",
    "{ department:string;\n",
    "  students: {name:string, degree:string}[];\n",
    "}\n",
    "```\n",
    "\n",
    "This can be made more readable if we name the types, using the **interface** TypeScript construct to name map compound types:"
   ]
  },
  {
   "cell_type": "code",
   "execution_count": 11,
   "metadata": {},
   "outputs": [
    {
     "data": {
      "text/plain": [
       "undefined"
      ]
     },
     "execution_count": 11,
     "metadata": {},
     "output_type": "execute_result"
    }
   ],
   "source": [
    "interface Student {\n",
    "    name: string;\n",
    "    degree:string;\n",
    "};\n",
    "\n",
    "interface StudentsData {\n",
    "    department: string;\n",
    "    students: Student[];\n",
    "}"
   ]
  },
  {
   "cell_type": "markdown",
   "metadata": {},
   "source": [
    "This type definition is useful to document the type of the expected values that we expect to read."
   ]
  },
  {
   "cell_type": "markdown",
   "metadata": {},
   "source": [
    "### 2.3 Working on complex JSON values"
   ]
  },
  {
   "cell_type": "markdown",
   "metadata": {},
   "source": [
    "In this section, we will use the methods **map,filter,reduce** to operate over complex JSON values. \n",
    "\n",
    "We will take a videos-database example (http://reactivex.io/learnrx/) as a basis for our examples.\n",
    "\n",
    "Suppose you are a developer at the popular streaming-movie website Netflix, and that your system's *API* uses JSON to communicate data.  The JSON values we describe are actual JSON values returned by the Netflix API."
   ]
  },
  {
   "cell_type": "markdown",
   "metadata": {},
   "source": [
    "When searching for new movie releases, you send a query to the API, and obtain a JSON reply:"
   ]
  },
  {
   "cell_type": "code",
   "execution_count": 12,
   "metadata": {},
   "outputs": [
    {
     "data": {
      "text/plain": [
       "undefined"
      ]
     },
     "execution_count": 12,
     "metadata": {},
     "output_type": "execute_result"
    }
   ],
   "source": [
    "let newReleases = [\n",
    "        {\n",
    "            \"id\": 70111470,\n",
    "            \"title\": \"Die Hard\",\n",
    "            \"boxart\": \"http://cdn-0.nflximg.com/images/2891/DieHard.jpg\",\n",
    "            \"uri\": \"http://api.netflix.com/catalog/titles/movies/70111470\",\n",
    "            \"rating\": 4.0,\n",
    "            \"bookmark\": []\n",
    "        },\n",
    "        {\n",
    "            \"id\": 654356453,\n",
    "            \"title\": \"Bad Boys\",\n",
    "            \"boxart\": \"http://cdn-0.nflximg.com/images/2891/BadBoys.jpg\",\n",
    "            \"uri\": \"http://api.netflix.com/catalog/titles/movies/70111470\",\n",
    "            \"rating\": 5.0,\n",
    "            \"bookmark\": [{ id: 432534, time: 65876586 }]\n",
    "        },\n",
    "        {\n",
    "            \"id\": 65432445,\n",
    "            \"title\": \"The Chamber\",\n",
    "            \"boxart\": \"http://cdn-0.nflximg.com/images/2891/TheChamber.jpg\",\n",
    "            \"uri\": \"http://api.netflix.com/catalog/titles/movies/70111470\",\n",
    "            \"rating\": 4.0,\n",
    "            \"bookmark\": []\n",
    "        },\n",
    "        {\n",
    "            \"id\": 675465,\n",
    "            \"title\": \"Fracture\",\n",
    "            \"boxart\": \"http://cdn-0.nflximg.com/images/2891/Fracture.jpg\",\n",
    "            \"uri\": \"http://api.netflix.com/catalog/titles/movies/70111470\",\n",
    "            \"rating\": 5.0,\n",
    "            \"bookmark\": [{ id: 432534, time: 65876586 }]\n",
    "        }\n",
    "    ];"
   ]
  },
  {
   "cell_type": "markdown",
   "metadata": {},
   "source": [
    "Let us describe the **type** of this value:\n",
    "* We observe it is a homogeneous array of map values.\n",
    "* Each map value describes a \"movie\" with fields id, title, boxart, uri, rating and bookmark.\n",
    "\n",
    "The corresponding Typescript annotation is:"
   ]
  },
  {
   "cell_type": "code",
   "execution_count": 13,
   "metadata": {},
   "outputs": [
    {
     "data": {
      "text/plain": [
       "undefined"
      ]
     },
     "execution_count": 13,
     "metadata": {},
     "output_type": "execute_result"
    }
   ],
   "source": [
    "interface Video {\n",
    "    id: number;\n",
    "    title: string;\n",
    "    boxart: string;\n",
    "    uri: string;\n",
    "    rating: number;\n",
    "    bookmark: {id: number, time: number}[];\n",
    "}\n",
    "type Releases = Video[];"
   ]
  },
  {
   "cell_type": "markdown",
   "metadata": {},
   "source": [
    "This type annotation lets us think about the data we obtained from the API as an array `[v1, v2, v3, v4]` where each item $v_i$ is a map `{id, title, boxart, uri, rating, bookmark}`.\n",
    "\n",
    "\n",
    "Note: while *interface* actually introduces a new type, *type* only provides an alias and not a new type. For instance, alias names will not be used in error messages. In addition, unlike an interface, one can give a type alias to any type annotation."
   ]
  },
  {
   "cell_type": "markdown",
   "metadata": {},
   "source": [
    "#### 2.3.1 Map over an Array of Videos\n",
    "\n",
    "We would like to transform this data into an array of `{id,title}` properties. \n",
    "This transformation is called a **projection** as we select only some of the properties in the input.\n",
    "\n",
    "In terms of types, this transformation maps from the type `Video[]` into the type `{id:number, title:string}[]`.\n",
    "\n",
    "A procedural way to achieve this goal would be:"
   ]
  },
  {
   "cell_type": "code",
   "execution_count": 14,
   "metadata": {},
   "outputs": [
    {
     "name": "stdout",
     "output_type": "stream",
     "text": [
      "[ { id: 70111470, title: 'Die Hard' },\n",
      "  { id: 654356453, title: 'Bad Boys' },\n",
      "  { id: 65432445, title: 'The Chamber' },\n",
      "  { id: 675465, title: 'Fracture' } ]\n"
     ]
    },
    {
     "data": {
      "text/plain": [
       "undefined"
      ]
     },
     "execution_count": 14,
     "metadata": {},
     "output_type": "execute_result"
    }
   ],
   "source": [
    "function getIDsAndTitles_1(reply)\n",
    "{\n",
    "    let res = [];\n",
    "    for(let i=0; i<reply.length; i++)\n",
    "    {\n",
    "        res.push({id: reply[i].id, title: reply[i].title});\n",
    "    }\n",
    "    return res;\n",
    "}\n",
    "\n",
    "let newReleasesIDAndTitle = getIDsAndTitles_1(newReleases)\n",
    "console.log(newReleasesIDAndTitle)"
   ]
  },
  {
   "cell_type": "markdown",
   "metadata": {},
   "source": [
    "A functional way of achieving the same result uses the **map** method (seen in the reading material for week-1) to abstract away the loop and the mutations we observe in the procedural solution (`i++, res.push()`)."
   ]
  },
  {
   "cell_type": "code",
   "execution_count": 15,
   "metadata": {},
   "outputs": [
    {
     "name": "stdout",
     "output_type": "stream",
     "text": [
      "[ { id: 70111470, title: 'Die Hard' },\n",
      "  { id: 654356453, title: 'Bad Boys' },\n",
      "  { id: 65432445, title: 'The Chamber' },\n",
      "  { id: 675465, title: 'Fracture' } ]\n"
     ]
    },
    {
     "data": {
      "text/plain": [
       "undefined"
      ]
     },
     "execution_count": 15,
     "metadata": {},
     "output_type": "execute_result"
    }
   ],
   "source": [
    "let newReleasesIDAndTitle = newReleases.map(x => ({id: x.id, title: x.title}))\n",
    "console.log(newReleasesIDAndTitle)"
   ]
  },
  {
   "cell_type": "markdown",
   "metadata": {},
   "source": [
    "Note that in this version:\n",
    "* There is no loop (`map` abstracts away the loop control structure)\n",
    "* There is no variable assignment (no need to define a loop counter `i` and mutate it and to maintain a `res` accumulator variable).\n",
    "\n",
    "Let us note what is the type of the transformer function we pass as an argument to `map()`:\n",
    "it gets as an argument `x` an item from newReleases - which is of type `Video` - and it returns a map of type `{id:number, name:title}`.  "
   ]
  },
  {
   "cell_type": "markdown",
   "metadata": {},
   "source": [
    "#### 2.3.2 Filter an Array of Videos\n",
    "\n",
    "The user is quite picky, and would like to search for new releases that have a rating of 5.0 only. \n",
    "\n",
    "We can solve this problem using **filter**.\n",
    "\n",
    "In terms of types, the operation we want to define maps an array of `Video[]` to an array of `Video[]`.\n",
    "This fits the definition of `filter` - which does not change the type of items in the array."
   ]
  },
  {
   "cell_type": "code",
   "execution_count": 16,
   "metadata": {},
   "outputs": [
    {
     "name": "stdout",
     "output_type": "stream",
     "text": [
      "[ { id: 654356453,\n",
      "    title: 'Bad Boys',\n",
      "    boxart: 'http://cdn-0.nflximg.com/images/2891/BadBoys.jpg',\n",
      "    uri: 'http://api.netflix.com/catalog/titles/movies/70111470',\n",
      "    rating: 5,\n",
      "    bookmark: [ [Object] ] },\n",
      "  { id: 675465,\n",
      "    title: 'Fracture',\n",
      "    boxart: 'http://cdn-0.nflximg.com/images/2891/Fracture.jpg',\n",
      "    uri: 'http://api.netflix.com/catalog/titles/movies/70111470',\n",
      "    rating: 5,\n",
      "    bookmark: [ [Object] ] } ]\n"
     ]
    },
    {
     "data": {
      "text/plain": [
       "undefined"
      ]
     },
     "execution_count": 16,
     "metadata": {},
     "output_type": "execute_result"
    }
   ],
   "source": [
    "let newReleasesOfRating5 = newReleases.filter(x => x.rating === 5)\n",
    "console.log(newReleasesOfRating5)"
   ]
  },
  {
   "cell_type": "markdown",
   "metadata": {},
   "source": [
    "#### 2.3.4 Reminder: Reduce and Neutral Elements as Initializers\n",
    "Compare the following 5 invocations of `reduce`:"
   ]
  },
  {
   "cell_type": "code",
   "execution_count": 1,
   "metadata": {},
   "outputs": [
    {
     "data": {
      "text/plain": [
       "6"
      ]
     },
     "execution_count": 1,
     "metadata": {},
     "output_type": "execute_result"
    }
   ],
   "source": [
    "// Compute the sum of an array of integers\n",
    "[1, 2, 3].reduce((acc, cur) => acc + cur, 0)"
   ]
  },
  {
   "cell_type": "code",
   "execution_count": 1,
   "metadata": {},
   "outputs": [
    {
     "data": {
      "text/plain": [
       "6"
      ]
     },
     "execution_count": 1,
     "metadata": {},
     "output_type": "execute_result"
    }
   ],
   "source": [
    "// Compute the product of an array of integers\n",
    "[1, 2, 3].reduce((acc, cur) => acc * cur, 1)"
   ]
  },
  {
   "cell_type": "code",
   "execution_count": 1,
   "metadata": {},
   "outputs": [
    {
     "data": {
      "text/plain": [
       "false"
      ]
     },
     "execution_count": 1,
     "metadata": {},
     "output_type": "execute_result"
    }
   ],
   "source": [
    "// Compute the logical and of an array of booleans\n",
    "[true, false, true].reduce((acc, cur) => acc && cur, true)"
   ]
  },
  {
   "cell_type": "code",
   "execution_count": 1,
   "metadata": {},
   "outputs": [
    {
     "data": {
      "text/plain": [
       "true"
      ]
     },
     "execution_count": 1,
     "metadata": {},
     "output_type": "execute_result"
    }
   ],
   "source": [
    "// Compute the logical or of an array of booleans\n",
    "[true, false, true].reduce((acc, cur) => acc || cur, false)"
   ]
  },
  {
   "cell_type": "code",
   "execution_count": 1,
   "metadata": {},
   "outputs": [
    {
     "data": {
      "text/plain": [
       "4"
      ]
     },
     "execution_count": 1,
     "metadata": {},
     "output_type": "execute_result"
    }
   ],
   "source": [
    "// Compute the max of an array of numbers\n",
    "[3, 1, 4].reduce((acc,cur) => Math.max(acc,cur), 0)"
   ]
  },
  {
   "cell_type": "markdown",
   "metadata": {},
   "source": [
    "Note that in all 5 cases, the initializer passed to `reduce(reducer,init)` is the neutral element of the reducer operator\n",
    "(0 for `+`, 1 for `*`, `true` for `and`, `false` for `or`).\n",
    "\n",
    "This makes sense in general - and allows one to answer the puzzling question of **what should be the value of reduce when applied to an empty array**.  The general answer is that it should be the neutral element of the reducer.\n",
    "\n",
    "**NOTE**: the `max` version takes as an initializer the value 0.  This is not correct when the array can contain negative numbers.  What should be the initial value in this case?"
   ]
  },
  {
   "cell_type": "markdown",
   "metadata": {},
   "source": [
    "#### 2.3.5 Rectangle Selection with Reduce\n",
    "\n",
    "A user has chosen to view movies as boxarts (that is, the image that is shown for each movie), as it is easier to select movies according to their boxarts. The API returned the following value as a reply to our query:"
   ]
  },
  {
   "cell_type": "code",
   "execution_count": 1,
   "metadata": {},
   "outputs": [
    {
     "data": {
      "text/plain": [
       "undefined"
      ]
     },
     "execution_count": 1,
     "metadata": {},
     "output_type": "execute_result"
    }
   ],
   "source": [
    "let boxarts = [\n",
    "        { width: 200, height: 200, url: \"http://cdn-0.nflximg.com/images/2891/Fracture200.jpg\" },\n",
    "        { width: 150, height: 200, url: \"http://cdn-0.nflximg.com/images/2891/Fracture150.jpg\" },\n",
    "        { width: 300, height: 200, url: \"http://cdn-0.nflximg.com/images/2891/Fracture300.jpg\" },\n",
    "        { width: 425, height: 150, url: \"http://cdn-0.nflximg.com/images/2891/Fracture425.jpg\" }\n",
    "    ]"
   ]
  },
  {
   "cell_type": "markdown",
   "metadata": {},
   "source": [
    "Let us define the type of this returned value: it is a homogeneous array of maps.\n",
    "Each map describes a boxart.\n",
    "\n",
    "```\n",
    "interface Boxart {\n",
    "    width:number; \n",
    "    height:number;\n",
    "    url: string;\n",
    "}\n",
    "```\n",
    "\n",
    "We would like to find the largest box-art image size, so that we could know what is the maximal size of the image placeholder should be.  We measure rectangles by their area ($width \\times height$).\n",
    "\n",
    "A straightforward way to do this is by going over each boxart, and keeping a temporary variable that holds the largest size out of the boxarts we have seen so far.\n",
    "\n",
    "In terms of types, the transformation maps an array `Boxart[]` into a `number`. Let us annotate this type into the function definition:"
   ]
  },
  {
   "cell_type": "code",
   "execution_count": 2,
   "metadata": {},
   "outputs": [
    {
     "data": {
      "text/plain": [
       "63750"
      ]
     },
     "execution_count": 2,
     "metadata": {},
     "output_type": "execute_result"
    }
   ],
   "source": [
    "interface Boxart {\n",
    "    width:number; \n",
    "    height:number;\n",
    "    url: string;\n",
    "};\n",
    "\n",
    "function maxBox(boxes: Boxart[]):number {\n",
    "    let maxBox = 0;\n",
    "    for (let i = 0; i < boxes.length; i++) {\n",
    "        let curBoxSize = boxes[i].width * boxes[i].height;\n",
    "        if (curBoxSize > maxBox) {\n",
    "            maxBox = curBoxSize;\n",
    "        }\n",
    "    }\n",
    "    return maxBox;\n",
    "}\n",
    "maxBox(boxarts)"
   ]
  },
  {
   "cell_type": "markdown",
   "metadata": {},
   "source": [
    "This is a case of a loop to accumulate a value from an array of values. In terms of types, it maps an array to a single value. The **reduce** method fits perfectly for this scenario: The `reduce` method takes as parameter a reducer function and an initial value, and returns the accumulated value. \n",
    "\n",
    "The reducer function takes two arguments: the current accumulator, and the current item. The return value of the reducer function is the \"successive\" value of the accumulator parameter. That is, the result of some operation applied to the current accumulator, and the current item.\n",
    "\n",
    "Our current accumulator should be the current largest box-art image size, and the initial value should be 0."
   ]
  },
  {
   "cell_type": "code",
   "execution_count": 3,
   "metadata": {},
   "outputs": [
    {
     "name": "stdout",
     "output_type": "stream",
     "text": [
      "63750\n"
     ]
    },
    {
     "data": {
      "text/plain": [
       "undefined"
      ]
     },
     "execution_count": 3,
     "metadata": {},
     "output_type": "execute_result"
    }
   ],
   "source": [
    "let largestBoxartSize = boxarts.reduce(\n",
    "    (curMax,curBox) => {\n",
    "        let curBoxSize = curBox.width * curBox.height;\n",
    "           if (curBoxSize > curMax) {\n",
    "               return curBoxSize;\n",
    "           } else {\n",
    "               return curMax;\n",
    "           }\n",
    "    }, // this is the reducer function\n",
    "    0  // this is the initial value\n",
    "    );\n",
    "    \n",
    "console.log(largestBoxartSize)"
   ]
  },
  {
   "cell_type": "markdown",
   "metadata": {},
   "source": [
    "Indeed, the largest boxart image size is 63750, which is the 4th boxart.\n",
    "\n",
    "Note that this version has no side effect, no mutation and no loop.\n",
    "\n",
    "We can make this version more readable by using the Math.max function - to express clearly that what we are doing in this \n",
    "`reduce` invocation is the identification of the max of an array.  We also annotate the expected type of the parameters in the reducer."
   ]
  },
  {
   "cell_type": "code",
   "execution_count": 25,
   "metadata": {},
   "outputs": [
    {
     "name": "stdout",
     "output_type": "stream",
     "text": [
      "63750\n"
     ]
    },
    {
     "data": {
      "text/plain": [
       "undefined"
      ]
     },
     "execution_count": 25,
     "metadata": {},
     "output_type": "execute_result"
    }
   ],
   "source": [
    "const boxSize = (box:Boxart) => box.width * box.height;\n",
    "let maxBoxSize = boxarts.reduce((curMax:number, curBox:Boxart) => Math.max(curMax, boxSize(curBox)), 0);\n",
    "   \n",
    "console.log(maxBoxSize)"
   ]
  },
  {
   "cell_type": "markdown",
   "metadata": {},
   "source": [
    "### 2.4 Tree Values\n",
    "\n",
    "Some replies will be more complex than what we have witnessed above: it is very often that we face replies that have a **tree** form, as opposed to a flat homogeneous array.\n",
    "\n",
    "One example of such, is the following API reply - which returns values grouped by movie genre (\"New Releases\", \"Dramas\" ...)"
   ]
  },
  {
   "cell_type": "code",
   "execution_count": 26,
   "metadata": {},
   "outputs": [
    {
     "data": {
      "text/plain": [
       "undefined"
      ]
     },
     "execution_count": 26,
     "metadata": {},
     "output_type": "execute_result"
    }
   ],
   "source": [
    "let movieLists = [\n",
    "        {\n",
    "            name: \"New Releases\",\n",
    "            videos: [\n",
    "                {\n",
    "                    \"id\": 70111470,\n",
    "                    \"title\": \"Die Hard\",\n",
    "                    \"boxart\": \"http://cdn-0.nflximg.com/images/2891/DieHard.jpg\",\n",
    "                    \"uri\": \"http://api.netflix.com/catalog/titles/movies/70111470\",\n",
    "                    \"rating\": 4.0,\n",
    "                    \"bookmark\": []\n",
    "                },\n",
    "                {\n",
    "                    \"id\": 654356453,\n",
    "                    \"title\": \"Bad Boys\",\n",
    "                    \"boxart\": \"http://cdn-0.nflximg.com/images/2891/BadBoys.jpg\",\n",
    "                    \"uri\": \"http://api.netflix.com/catalog/titles/movies/70111470\",\n",
    "                    \"rating\": 5.0,\n",
    "                    \"bookmark\": [{ id: 432534, time: 65876586 }]\n",
    "                }\n",
    "            ]\n",
    "        },\n",
    "        {\n",
    "            name: \"Dramas\",\n",
    "            videos: [\n",
    "                {\n",
    "                    \"id\": 65432445,\n",
    "                    \"title\": \"The Chamber\",\n",
    "                    \"boxart\": \"http://cdn-0.nflximg.com/images/2891/TheChamber.jpg\",\n",
    "                    \"uri\": \"http://api.netflix.com/catalog/titles/movies/70111470\",\n",
    "                    \"rating\": 4.0,\n",
    "                    \"bookmark\": []\n",
    "                },\n",
    "                {\n",
    "                    \"id\": 675465,\n",
    "                    \"title\": \"Fracture\",\n",
    "                    \"boxart\": \"http://cdn-0.nflximg.com/images/2891/Fracture.jpg\",\n",
    "                    \"uri\": \"http://api.netflix.com/catalog/titles/movies/70111470\",\n",
    "                    \"rating\": 5.0,\n",
    "                    \"bookmark\": [{ id: 432534, time: 65876586 }]\n",
    "                }\n",
    "            ]\n",
    "        }\n",
    "    ]"
   ]
  },
  {
   "cell_type": "markdown",
   "metadata": {},
   "source": [
    "To document the structure of this value, let us write its type:\n",
    "* It is an array of 2 maps of identical structure.\n",
    "* Each item represents a category of Videos. The category maps have the following keys:\n",
    "  * name: string \n",
    "  * videos: an array of Video[].\n",
    "\n",
    "The Typescript definition is thus:"
   ]
  },
  {
   "cell_type": "code",
   "execution_count": 27,
   "metadata": {},
   "outputs": [
    {
     "data": {
      "text/plain": [
       "undefined"
      ]
     },
     "execution_count": 27,
     "metadata": {},
     "output_type": "execute_result"
    }
   ],
   "source": [
    "interface VideoCategory {\n",
    "    name:string;\n",
    "    videos: Video[];\n",
    "}\n",
    "type VideoCategories = VideoCategory[];"
   ]
  },
  {
   "cell_type": "markdown",
   "metadata": {},
   "source": [
    "The structure of the value is thus a *tree*:\n",
    "$[ category_1, category_2 ]$\n",
    "where \n",
    "$category_i$ is of the form:\n",
    "`{name:string, videos:[v1,...]}`.\n",
    "\n",
    "These kinds of trees impose a challenge when working with them: if we apply `map` or `filter`, the transformer or the predicate will receive as argument a `VideoCategory` object.  If we want to process the embedded `Video` objects inside the categories, we must first **flatten** the tree."
   ]
  },
  {
   "cell_type": "markdown",
   "metadata": {},
   "source": [
    "Suppose we would like to have a list of all movie ids in that tree. The most trivial way, as before, is to do the following (using a foreach loop):"
   ]
  },
  {
   "cell_type": "code",
   "execution_count": 39,
   "metadata": {},
   "outputs": [
    {
     "name": "stdout",
     "output_type": "stream",
     "text": [
      "movieIds=70111470,654356453,65432445,675465\n"
     ]
    },
    {
     "data": {
      "text/plain": [
       "undefined"
      ]
     },
     "execution_count": 39,
     "metadata": {},
     "output_type": "execute_result"
    }
   ],
   "source": [
    "let movieIds = []\n",
    "movieLists.forEach(category => category.videos.forEach(video => movieIds.push(video.id)));\n",
    "console.log(`movieIds=${movieIds}`);"
   ]
  },
  {
   "cell_type": "markdown",
   "metadata": {},
   "source": [
    "`forEach()` abstracts a single loop.  The embedded calls to `forEach` inside `forEach` reflects the two-level traversal of the tree.\n",
    "\n",
    "Note that `forEach()` is **not a functional** style: this is precisely the type of operations we want to abstract away using map/filter/reduce. This version has an accumulator variable (`movieIds`) which we must initialize and then mutate as part of the `forEach` iteration.\n",
    "\n",
    "Not a functional solution..."
   ]
  },
  {
   "cell_type": "markdown",
   "metadata": {},
   "source": [
    "The general feeling of the task we want to perform is an **accumulation** - so that `reduce` seems to be the good tool.\n",
    "But we cannot apply `reduce()` as is, because `reduce` would work on `Category` values and we want to accumulate `Video` values.\n",
    "\n",
    "Alternatively, we could attempt to use **map** as we are mapping `Video` values into `number` values.  But again, we cannot map over Categories - we need to map over Videos - so that `map` cannot be used directly.\n",
    "\n",
    "Let's recall the concat() method of arrays:"
   ]
  },
  {
   "cell_type": "code",
   "execution_count": 40,
   "metadata": {},
   "outputs": [
    {
     "data": {
      "text/plain": [
       "[ 1, 2, 3, 4, 5, 6, 7, 8 ]"
      ]
     },
     "execution_count": 40,
     "metadata": {},
     "output_type": "execute_result"
    }
   ],
   "source": [
    "let arrayOne = [1, 2, 3, 4]\n",
    "let arrayTwo = [5, 6, 7, 8]\n",
    "arrayOne.concat(arrayTwo)"
   ]
  },
  {
   "cell_type": "markdown",
   "metadata": {},
   "source": [
    "In contrast to `push()`, `concat()` does not mutate its arguments - it returns a new array and can be used safely.\n",
    "\n",
    "If we `reduce` an array of arrays and accumulate using the `concat` operator,  we will get a method that flattens one level of an array of arrays:"
   ]
  },
  {
   "cell_type": "code",
   "execution_count": 41,
   "metadata": {},
   "outputs": [
    {
     "data": {
      "text/plain": [
       "[ 1, 2, 3, 4, 5, 6 ]"
      ]
     },
     "execution_count": 41,
     "metadata": {},
     "output_type": "execute_result"
    }
   ],
   "source": [
    "let a = [[1, 2, 3], [4, 5, 6]]\n",
    "a.reduce((acc, curr) => acc.concat(curr), [])"
   ]
  },
  {
   "cell_type": "markdown",
   "metadata": {},
   "source": [
    "We now need to apply a mixture of `map` and `reduce` in order to map and flatten:"
   ]
  },
  {
   "cell_type": "code",
   "execution_count": 42,
   "metadata": {},
   "outputs": [
    {
     "data": {
      "text/plain": [
       "[ 1, 2, 3, 4, 5, 6 ]"
      ]
     },
     "execution_count": 42,
     "metadata": {},
     "output_type": "execute_result"
    }
   ],
   "source": [
    "// We want the following as an array of the numbers:\n",
    "let a = [{group: 1, numbers:[1, 2, 3]}, {group: 2, numbers:[4, 5, 6]}];\n",
    "a.map(x => x.numbers).reduce((acc,curr) => acc.concat(curr), [])"
   ]
  },
  {
   "cell_type": "markdown",
   "metadata": {},
   "source": [
    "### 2.4.1 The 'ramda' package"
   ]
  },
  {
   "cell_type": "markdown",
   "metadata": {},
   "source": [
    "'ramda' is a library of functions designed tofacilitate functional programming in JavaScript.\n",
    "\n",
    "ramda includes a function called `chain()` (often also called `flatmap()`) which can come handy in our last example: If we want to return all of the results as a single flat array instead of as an array of arrays, then we can use `ramda`'s chain:"
   ]
  },
  {
   "cell_type": "code",
   "execution_count": 44,
   "metadata": {},
   "outputs": [
    {
     "data": {
      "text/plain": [
       "undefined"
      ]
     },
     "execution_count": 44,
     "metadata": {},
     "output_type": "execute_result"
    }
   ],
   "source": [
    "import * as R from 'ramda'"
   ]
  },
  {
   "cell_type": "code",
   "execution_count": 45,
   "metadata": {},
   "outputs": [
    {
     "data": {
      "text/plain": [
       "[ 1, 2, 3, 4, 5, 6 ]"
      ]
     },
     "execution_count": 45,
     "metadata": {},
     "output_type": "execute_result"
    }
   ],
   "source": [
    "R.chain(x => x.numbers, a)"
   ]
  },
  {
   "cell_type": "markdown",
   "metadata": {},
   "source": [
    "The `chain()` function goes through an array, and flattens the result of 'doing something' (which can be 'nothing' or applying a 'mapping') by one level.\n",
    "\n",
    "Back to our videos example, if we `chain` the `movieLists` with a function that just returns the category videos, then the result would be an array containing the videos. As such:"
   ]
  },
  {
   "cell_type": "code",
   "execution_count": 46,
   "metadata": {},
   "outputs": [
    {
     "data": {
      "text/plain": [
       "[ { id: 70111470,\n",
       "    title: 'Die Hard',\n",
       "    boxart: 'http://cdn-0.nflximg.com/images/2891/DieHard.jpg',\n",
       "    uri: 'http://api.netflix.com/catalog/titles/movies/70111470',\n",
       "    rating: 4,\n",
       "    bookmark: [] },\n",
       "  { id: 654356453,\n",
       "    title: 'Bad Boys',\n",
       "    boxart: 'http://cdn-0.nflximg.com/images/2891/BadBoys.jpg',\n",
       "    uri: 'http://api.netflix.com/catalog/titles/movies/70111470',\n",
       "    rating: 5,\n",
       "    bookmark: [ [Object] ] },\n",
       "  { id: 65432445,\n",
       "    title: 'The Chamber',\n",
       "    boxart: 'http://cdn-0.nflximg.com/images/2891/TheChamber.jpg',\n",
       "    uri: 'http://api.netflix.com/catalog/titles/movies/70111470',\n",
       "    rating: 4,\n",
       "    bookmark: [] },\n",
       "  { id: 675465,\n",
       "    title: 'Fracture',\n",
       "    boxart: 'http://cdn-0.nflximg.com/images/2891/Fracture.jpg',\n",
       "    uri: 'http://api.netflix.com/catalog/titles/movies/70111470',\n",
       "    rating: 5,\n",
       "    bookmark: [ [Object] ] } ]"
      ]
     },
     "execution_count": 46,
     "metadata": {},
     "output_type": "execute_result"
    }
   ],
   "source": [
    "R.chain(category => category.videos, movieLists)"
   ]
  },
  {
   "cell_type": "markdown",
   "metadata": {},
   "source": [
    "The only change that is left, is that we do not want the category videos flattened, rather something extra: taking the category.videos and mapping each element there to its id."
   ]
  },
  {
   "cell_type": "code",
   "execution_count": 47,
   "metadata": {},
   "outputs": [
    {
     "data": {
      "text/plain": [
       "[ 70111470, 654356453, 65432445, 675465 ]"
      ]
     },
     "execution_count": 47,
     "metadata": {},
     "output_type": "execute_result"
    }
   ],
   "source": [
    "R.chain(category => category.videos, movieLists).map(video => video.id) "
   ]
  },
  {
   "cell_type": "markdown",
   "metadata": {},
   "source": [
    "It helps to annotate the types of the arguments in such chained transformations to document and verify their correctness:"
   ]
  },
  {
   "cell_type": "code",
   "execution_count": 48,
   "metadata": {},
   "outputs": [
    {
     "data": {
      "text/plain": [
       "[ 70111470, 654356453, 65432445, 675465 ]"
      ]
     },
     "execution_count": 48,
     "metadata": {},
     "output_type": "execute_result"
    }
   ],
   "source": [
    "R.chain((category:VideoCategory) => category.videos, movieLists).map((video:Video) => video.id) "
   ]
  },
  {
   "cell_type": "markdown",
   "metadata": {},
   "source": [
    "## 3. Exercises: "
   ]
  },
  {
   "cell_type": "markdown",
   "metadata": {},
   "source": [
    "### 3.1 Implement the `map` method using `reduce`.\n",
    "\n",
    "Let's think step by step: What should be our *accumulated* value? It is natural to think that the accumulation consists in 'pushing' the current element **as a mapped value** to the currently accumulated array.\n",
    "\n",
    "To that end, the initial value should be the empty array. As we go, we will take the current element, and our next accumulator will be the current accumulator, only expanded by the current element after it is mapped by the transformer.\n",
    "\n",
    "[solution](PPL_PS1_SOL.html#Exercise-1:-Implementing-map-with-reduce)"
   ]
  },
  {
   "cell_type": "markdown",
   "metadata": {},
   "source": [
    "### 3.2 Implement `filter` using `reduce`.\n",
    "\n",
    "What should be changed in the solution of the previous exercise?\n",
    "\n",
    "We can skip adding the current element if it does not satisfy the predicate, in which case the next accumulator will not change. However, if the current element does satisfy the predicate, we will set the next accumulator to be the current one, only enlarged by the current element\n",
    "\n",
    "[solution](PPL_PS1_SOL.html#Exercise-2:-Implementing-filter-with-reduce)"
   ]
  },
  {
   "cell_type": "markdown",
   "metadata": {},
   "source": [
    "### 3.3 Implement `some` and `every` using `map` and `reduce`.\n",
    "\n",
    "`some(pred)` is a method that returns `true` if and only if *at least one* element in an array satisfies a given predicate.\n",
    "\n",
    "`every(pred)` is a method that returns true if and only if *all* the elements in an array satisfy a given predicate.\n",
    "\n",
    "For example:"
   ]
  },
  {
   "cell_type": "code",
   "execution_count": 49,
   "metadata": {},
   "outputs": [
    {
     "name": "stdout",
     "output_type": "stream",
     "text": [
      "arr1HasEvenNumbers = true\n",
      "arr2HasEvenNumbers = false\n",
      "allInArr1AreEven = false\n",
      "allInArr3AreEven = true\n"
     ]
    },
    {
     "data": {
      "text/plain": [
       "undefined"
      ]
     },
     "execution_count": 49,
     "metadata": {},
     "output_type": "execute_result"
    }
   ],
   "source": [
    "let even = (x => x % 2 == 0)\n",
    "let arr1 = [1,2,3,4]\n",
    "let arr2 = [1,3,5,7]\n",
    "let arr3 = [2,4,6,8]\n",
    "let arr1HasEvenNumbers = arr1.some(even)\n",
    "let arr2HasEvenNumbers = arr2.some(even)\n",
    "let allInArr1AreEven = arr1.every(even)\n",
    "let allInArr3AreEven = arr3.every(even)\n",
    "console.log(`arr1HasEvenNumbers = ${arr1HasEvenNumbers}`)\n",
    "console.log(`arr2HasEvenNumbers = ${arr2HasEvenNumbers}`)\n",
    "console.log(`allInArr1AreEven = ${allInArr1AreEven}`)\n",
    "console.log(`allInArr3AreEven = ${allInArr3AreEven}`)"
   ]
  },
  {
   "cell_type": "markdown",
   "metadata": {},
   "source": [
    "Instructions: \n",
    "\n",
    "A way to implement `some` is by mapping the array to `true/false` values of whether each element satisfies the predicate, and then doing an accumulated logical `or` between the elements using `reduce`, with the initial accumulator equal to `false`.\n",
    "\n",
    "Similarly, we can implement `every` in the same way as above, except that we need to use a logical `and` and our initial accumulator should be `true`.\n",
    "\n",
    "[solution](PPL_PS1_SOL.html#Exercise-3:-Implementing-some-and-every-with-map-and-reduce)"
   ]
  },
  {
   "cell_type": "markdown",
   "metadata": {},
   "source": [
    "## Shortcut Semantics"
   ]
  },
  {
   "cell_type": "markdown",
   "metadata": {},
   "source": [
    "The native `some` and `every` methods employ a concept known as 'shortcut semantics'. What this means, is that `some` stops and immediately returns `true` at the moment it finds an element that satisfies the predicate. `every` stops and immediately returns `false` at the moment it finds an element that does not satisfy the predicate.\n",
    "\n",
    "**Question**: does our implementation satisfy shortcut semantics?"
   ]
  },
  {
   "cell_type": "markdown",
   "metadata": {},
   "source": [
    "It is difficult to distinguish between shortcut semantics and non-shortcut semantics because both shortcut and non-shortcut versions return the same values for all parameters.  \n",
    "\n",
    "Can we conclude that a shortcut and non-shortcut versions of `some` are equivalent according to the definition of function equivalence we provided in class?\n",
    "\n",
    "Remember though the difference between mathematical function equivalence and programming functions equivalence: 2 programming functions `f` and `g` are equivalent if they have the same domain, same range and for all values in the domain:\n",
    "* Either `f(x)` has a value and `g(x)` has the same value\n",
    "* Or `f(x)` does not terminate and `g(x)` does not terminate as well\n",
    "* Or `f(x)` throws an error and `g(x)` throws an error as well\n",
    "\n",
    "How can we then distinguish between a shortcut semantics version of `some` and one that is not shortcut?\n",
    "\n",
    "The solution is to choose parameters that will distinguish between the two computations using either non-termination (infinite loops) or errors."
   ]
  },
  {
   "cell_type": "markdown",
   "metadata": {},
   "source": [
    "Let us define such an example on arrays of numbers.  We can trigger an error in Javascript by using the `throw` primitive.\n",
    "\n",
    "To test whether an error was thrown, we use the same syntax as in Java - with `try/catch`."
   ]
  },
  {
   "cell_type": "code",
   "execution_count": 50,
   "metadata": {},
   "outputs": [
    {
     "data": {
      "text/plain": [
       "true"
      ]
     },
     "execution_count": 50,
     "metadata": {},
     "output_type": "execute_result"
    }
   ],
   "source": [
    "const throwOnZero = x => { if (x > 0) return true; else throw false;}\n",
    "let a = [1,0]\n",
    "try {\n",
    "    a.some(throwOnZero);\n",
    "}\n",
    "catch (e) {\n",
    "    e;\n",
    "}"
   ]
  },
  {
   "cell_type": "code",
   "execution_count": 51,
   "metadata": {},
   "outputs": [
    {
     "data": {
      "text/plain": [
       "false"
      ]
     },
     "execution_count": 51,
     "metadata": {},
     "output_type": "execute_result"
    }
   ],
   "source": [
    "const someExercise = (pred, arr) => arr.map(pred).reduce((acc, cur) => acc || cur, false)\n",
    "try {\n",
    "    someExercise(throwOnZero, a);\n",
    "}\n",
    "catch (e) {\n",
    "    e;\n",
    "}"
   ]
  },
  {
   "cell_type": "markdown",
   "metadata": {},
   "source": [
    "By using deliberate error throwing, we are able to distinguish between shortcut and non-shortcut semantics on the definition \n",
    "of the `some` function."
   ]
  },
  {
   "cell_type": "markdown",
   "metadata": {},
   "source": [
    "The next question that arises is whether we can define a version of `some` using `reduce` that has shortcut semantics.\n",
    "We will revisit this question in Chapter 3 of the course, when we introduce generators."
   ]
  }
 ],
 "metadata": {
  "anaconda-cloud": {},
  "kernelspec": {
   "display_name": "Typescript 2.9",
   "language": "typescript",
   "name": "typescript"
  },
  "language_info": {
   "file_extension": ".ts",
   "mimetype": "text/x-typescript",
   "name": "typescript",
   "version": "2.9.2"
  }
 },
 "nbformat": 4,
 "nbformat_minor": 2
}
